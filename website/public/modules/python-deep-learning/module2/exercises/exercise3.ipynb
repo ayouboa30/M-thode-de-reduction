{
  "cells": [
    {
      "cell_type": "markdown",
      "metadata": {
        "id": "jWo1RnQ55XGQ"
      },
      "source": [
        "# Module 2 - Exercise 3: Gradient Flow\n",
        "\n",
        "## Learning Objectives\n",
        "- Understand and observe vanishing gradient problems with sigmoid and tanh activations\n",
        "- Experience exploding gradient problems with poor weight initialization\n",
        "- Implement gradient clipping to handle exploding gradients\n",
        "- Learn how ReLU activations help maintain gradient flow\n",
        "- Understand how batch normalization stabilizes training\n",
        "- Analyze gradient statistics to diagnose training issues"
      ]
    },
    {
      "cell_type": "markdown",
      "metadata": {
        "id": "pwMJsu0d5XGS"
      },
      "source": [
        "## Setup and Imports"
      ]
    },
    {
      "cell_type": "code",
      "execution_count": 110,
      "metadata": {
        "id": "GZHefqFV5XGS"
      },
      "outputs": [],
      "source": [
        "# Clone the test repository\n",
        "!git clone https://github.com/racousin/data_science_practice.git /tmp/tests 2>/dev/null || true\n",
        "\n",
        "# Import required modules\n",
        "import sys\n",
        "sys.path.append('/tmp/tests/tests/python_deep_learning')\n",
        "\n",
        "# Import the improved test utilities\n",
        "from test_utils import NotebookTestRunner, create_inline_test\n",
        "from module2.test_exercise3 import Exercise3Validator, EXERCISE3_SECTIONS\n",
        "\n",
        "# Create test runner and validator\n",
        "test_runner = NotebookTestRunner(\"module2\", 3)\n",
        "validator = Exercise3Validator()"
      ]
    },
    {
      "cell_type": "code",
      "execution_count": 111,
      "metadata": {
        "colab": {
          "base_uri": "https://localhost:8080/"
        },
        "id": "-_vQpAzo5XGT",
        "outputId": "8b39ed5b-415f-4225-ab02-56d9c3070ffa"
      },
      "outputs": [
        {
          "output_type": "stream",
          "name": "stdout",
          "text": [
            "Using device: cuda\n"
          ]
        }
      ],
      "source": [
        "import torch\n",
        "import torch.nn as nn\n",
        "import torch.nn.functional as F\n",
        "import numpy as np\n",
        "import matplotlib.pyplot as plt\n",
        "from typing import List, Dict\n",
        "\n",
        "# Set random seed for reproducibility\n",
        "torch.manual_seed(42)\n",
        "np.random.seed(42)\n",
        "\n",
        "# Check CUDA availability\n",
        "device = torch.device('cuda' if torch.cuda.is_available() else 'cpu')\n",
        "print(f\"Using device: {device}\")"
      ]
    },
    {
      "cell_type": "markdown",
      "metadata": {
        "id": "yk3HVMLF5XGU"
      },
      "source": [
        "## Section 1: Vanishing Gradients with Sigmoid\n",
        "\n",
        "Let's first observe the vanishing gradient problem using sigmoid activations. The sigmoid function squashes inputs to (0, 1) and its derivative has a maximum value of 0.25, causing gradients to shrink as they propagate backward through deep networks."
      ]
    },
    {
      "cell_type": "code",
      "execution_count": 112,
      "metadata": {
        "colab": {
          "base_uri": "https://localhost:8080/"
        },
        "id": "DkqkShY75XGU",
        "outputId": "d90abd2f-08b1-498d-978f-b0184f85af3b"
      },
      "outputs": [
        {
          "output_type": "stream",
          "name": "stdout",
          "text": [
            "Deep Sigmoid Network:\n",
            "Sequential(\n",
            "  (0): Linear(in_features=10, out_features=8, bias=True)\n",
            "  (1): Sigmoid()\n",
            "  (2): Linear(in_features=8, out_features=6, bias=True)\n",
            "  (3): Sigmoid()\n",
            "  (4): Linear(in_features=6, out_features=4, bias=True)\n",
            "  (5): Sigmoid()\n",
            "  (6): Linear(in_features=4, out_features=2, bias=True)\n",
            "  (7): Sigmoid()\n",
            "  (8): Linear(in_features=2, out_features=1, bias=True)\n",
            "  (9): Sigmoid()\n",
            ")\n"
          ]
        }
      ],
      "source": [
        "# TODO: Create a deep network with sigmoid activations\n",
        "# The network should have at least 10 layers (5 Linear + 5 Sigmoid)\n",
        "# Input: 10 features, Hidden layers: 20 units each, Output: 1\n",
        "deep_sigmoid_network = nn.Sequential(\n",
        "    nn.Linear(10,8),\n",
        "    nn.Sigmoid(),\n",
        "    nn.Linear(8,6),\n",
        "    nn.Sigmoid(),\n",
        "    nn.Linear(6,4),\n",
        "    nn.Sigmoid(),\n",
        "    nn.Linear(4,2),\n",
        "    nn.Sigmoid(),\n",
        "    nn.Linear(2,1),\n",
        "    nn.Sigmoid()\n",
        "\n",
        ")\n",
        "\n",
        "# Display network architecture\n",
        "if deep_sigmoid_network:\n",
        "    print(\"Deep Sigmoid Network:\")\n",
        "    print(deep_sigmoid_network)"
      ]
    },
    {
      "cell_type": "code",
      "execution_count": 113,
      "metadata": {
        "colab": {
          "base_uri": "https://localhost:8080/",
          "height": 447
        },
        "id": "b5a_hABw5XGV",
        "outputId": "1a2db76c-e4b9-4bbc-b4d2-f634405531d2"
      },
      "outputs": [
        {
          "output_type": "display_data",
          "data": {
            "text/plain": [
              "<Figure size 1000x400 with 1 Axes>"
            ],
            "image/png": "[encoded data removed]"
          },
          "metadata": {}
        },
        {
          "output_type": "stream",
          "name": "stdout",
          "text": [
            "First layer gradient norm: 0.000000\n",
            "Last layer gradient norm: 0.000000\n"
          ]
        }
      ],
      "source": [
        "# TODO: Compute gradients through the sigmoid network\n",
        "# 1. Create a random input tensor (batch_size=32, features=10)\n",
        "# 2. Forward pass through the network\n",
        "# 3. Compute mean of output\n",
        "# 4. Backward pass\n",
        "# 5. Collect gradients from each Linear layer's weight.grad\n",
        "x = torch.randn((32,10),requires_grad=True)\n",
        "output = deep_sigmoid_network(x)\n",
        "output.mean().backward()\n",
        "sigmoid_gradients = x.grad\n",
        "# Visualize gradient magnitudes\n",
        "if sigmoid_gradients is not None:\n",
        "    grad_norms = [torch.norm(g).item() for g in sigmoid_gradients]\n",
        "    plt.figure(figsize=(10, 4))\n",
        "    plt.bar(range(len(grad_norms)), grad_norms)\n",
        "    plt.xlabel('Layer Index')\n",
        "    plt.ylabel('Gradient Norm')\n",
        "    plt.title('Gradient Norms in Deep Sigmoid Network')\n",
        "    plt.yscale('log')\n",
        "    plt.show()\n",
        "    print(f\"First layer gradient norm: {grad_norms[0]:.6f}\")\n",
        "    print(f\"Last layer gradient norm: {grad_norms[-1]:.6f}\")"
      ]
    },
    {
      "cell_type": "code",
      "execution_count": 114,
      "metadata": {
        "colab": {
          "base_uri": "https://localhost:8080/"
        },
        "id": "If8ErTeS5XGW",
        "outputId": "40a3f9fe-9ee5-4e73-f530-2c75d72f1d08"
      },
      "outputs": [
        {
          "output_type": "stream",
          "name": "stdout",
          "text": [
            "Vanishing gradient ratio: 0.98917264\n",
            "This means the gradient shrinks by a factor of 1.01!\n"
          ]
        }
      ],
      "source": [
        "# TODO: Calculate the vanishing gradient ratio\n",
        "# Ratio = last_layer_gradient_norm / first_layer_gradient_norm\n",
        "vanishing_ratio = np.linalg.norm(sigmoid_gradients[-1])/ np.linalg.norm(sigmoid_gradients[0])\n",
        "\n",
        "if vanishing_ratio is not None:\n",
        "    print(f\"Vanishing gradient ratio: {vanishing_ratio:.8f}\")\n",
        "    print(f\"This means the gradient shrinks by a factor of {1/vanishing_ratio:.2f}!\")"
      ]
    },
    {
      "cell_type": "code",
      "execution_count": 115,
      "metadata": {
        "colab": {
          "base_uri": "https://localhost:8080/"
        },
        "id": "5hIPIfuJ5XGW",
        "outputId": "ea0eca42-c387-4d58-f080-81f0b81b0cfb"
      },
      "outputs": [
        {
          "output_type": "stream",
          "name": "stdout",
          "text": [
            "\n",
            "==================================================\n",
            "Testing: Section 1: Vanishing Gradients with Sigmoid\n",
            "==================================================\n",
            "❌ Deep network with sigmoid activations: Unexpected error: Exercise3Validator.test_deep_sigmoid_network() missing 1 required positional argument: 'context'\n",
            "❌ Gradient computation through sigmoid network: Unexpected error: Exercise3Validator.test_sigmoid_gradients() missing 1 required positional argument: 'context'\n",
            "❌ Calculation of gradient vanishing ratio: Unexpected error: Exercise3Validator.test_vanishing_gradient_ratio() missing 1 required positional argument: 'context'\n",
            "\n",
            "❌ Section 1: Vanishing Gradients with Sigmoid - Some tests failed. Review the errors above.\n"
          ]
        },
        {
          "output_type": "execute_result",
          "data": {
            "text/plain": [
              "False"
            ]
          },
          "metadata": {},
          "execution_count": 115
        }
      ],
      "source": [
        "# Test Section 1: Vanishing Gradients with Sigmoid\n",
        "section_tests = [(getattr(validator, name), desc) for name, desc in EXERCISE3_SECTIONS[\"Section 1: Vanishing Gradients with Sigmoid\"]]\n",
        "test_runner.test_section(\"Section 1: Vanishing Gradients with Sigmoid\", validator, section_tests, locals())"
      ]
    },
    {
      "cell_type": "markdown",
      "metadata": {
        "id": "omFYfDuX5XGX"
      },
      "source": [
        "## Section 2: Vanishing Gradients with Tanh\n",
        "\n",
        "The hyperbolic tangent (tanh) function also suffers from vanishing gradients, though typically less severe than sigmoid. Let's compare."
      ]
    },
    {
      "cell_type": "code",
      "execution_count": 116,
      "metadata": {
        "colab": {
          "base_uri": "https://localhost:8080/"
        },
        "id": "CAxUCHbg5XGX",
        "outputId": "97de819f-a90a-4b78-a99e-330f09138ff5"
      },
      "outputs": [
        {
          "output_type": "stream",
          "name": "stdout",
          "text": [
            "Deep Tanh Network:\n",
            "Sequential(\n",
            "  (0): Linear(in_features=10, out_features=8, bias=True)\n",
            "  (1): Tanh()\n",
            "  (2): Linear(in_features=8, out_features=6, bias=True)\n",
            "  (3): Tanh()\n",
            "  (4): Linear(in_features=6, out_features=4, bias=True)\n",
            "  (5): Tanh()\n",
            "  (6): Linear(in_features=4, out_features=2, bias=True)\n",
            "  (7): Tanh()\n",
            "  (8): Linear(in_features=2, out_features=1, bias=True)\n",
            "  (9): Tanh()\n",
            ")\n"
          ]
        }
      ],
      "source": [
        "# TODO: Create a deep network with tanh activations\n",
        "# Similar structure to sigmoid network but with Tanh activations\n",
        "deep_tanh_network = deep_sigmoid_network = nn.Sequential(\n",
        "    nn.Linear(10,8),\n",
        "    nn.Tanh(),\n",
        "    nn.Linear(8,6),\n",
        "    nn.Tanh(),\n",
        "    nn.Linear(6,4),\n",
        "    nn.Tanh(),\n",
        "    nn.Linear(4,2),\n",
        "    nn.Tanh(),\n",
        "    nn.Linear(2,1),\n",
        "    nn.Tanh()\n",
        "\n",
        ")\n",
        "\n",
        "if deep_tanh_network:\n",
        "    print(\"Deep Tanh Network:\")\n",
        "    print(deep_tanh_network)"
      ]
    },
    {
      "cell_type": "code",
      "execution_count": 121,
      "metadata": {
        "colab": {
          "base_uri": "https://localhost:8080/",
          "height": 222
        },
        "id": "nmKfDgqV5XGX",
        "outputId": "4756676e-3a30-4772-f264-4c242c5b0caa"
      },
      "outputs": [
        {
          "output_type": "error",
          "ename": "AttributeError",
          "evalue": "'range' object has no attribute 'grad'",
          "traceback": [
            "\u001b[0;31m---------------------------------------------------------------------------\u001b[0m",
            "\u001b[0;31mAttributeError\u001b[0m                            Traceback (most recent call last)",
            "\u001b[0;32m/tmp/ipython-input-1597244435.py\u001b[0m in \u001b[0;36m<cell line: 0>\u001b[0;34m()\u001b[0m\n\u001b[1;32m      1\u001b[0m \u001b[0;31m# TODO: Compute gradients through the tanh network\u001b[0m\u001b[0;34m\u001b[0m\u001b[0;34m\u001b[0m\u001b[0m\n\u001b[1;32m      2\u001b[0m \u001b[0;31m# Follow the same process as with sigmoid network\u001b[0m\u001b[0;34m\u001b[0m\u001b[0;34m\u001b[0m\u001b[0m\n\u001b[0;32m----> 3\u001b[0;31m \u001b[0mx\u001b[0m\u001b[0;34m.\u001b[0m\u001b[0mgrad\u001b[0m\u001b[0;34m.\u001b[0m\u001b[0mzero_\u001b[0m\u001b[0;34m(\u001b[0m\u001b[0;34m)\u001b[0m\u001b[0;34m\u001b[0m\u001b[0;34m\u001b[0m\u001b[0m\n\u001b[0m\u001b[1;32m      4\u001b[0m \u001b[0moutput\u001b[0m \u001b[0;34m=\u001b[0m \u001b[0mdeep_tanh_network\u001b[0m\u001b[0;34m(\u001b[0m\u001b[0mx\u001b[0m\u001b[0;34m)\u001b[0m\u001b[0;34m\u001b[0m\u001b[0;34m\u001b[0m\u001b[0m\n\u001b[1;32m      5\u001b[0m \u001b[0moutput\u001b[0m\u001b[0;34m.\u001b[0m\u001b[0mmean\u001b[0m\u001b[0;34m(\u001b[0m\u001b[0;34m)\u001b[0m\u001b[0;34m.\u001b[0m\u001b[0mbackward\u001b[0m\u001b[0;34m(\u001b[0m\u001b[0;34m)\u001b[0m\u001b[0;34m\u001b[0m\u001b[0;34m\u001b[0m\u001b[0m\n",
            "\u001b[0;31mAttributeError\u001b[0m: 'range' object has no attribute 'grad'"
          ]
        }
      ],
      "source": [
        "# TODO: Compute gradients through the tanh network\n",
        "# Follow the same process as with sigmoid network\n",
        "x.grad.zero_()\n",
        "output = deep_tanh_network(x)\n",
        "output.mean().backward()\n",
        "tanh_gradients = x.grad\n",
        "# Compare sigmoid vs tanh gradient flow\n",
        "if sigmoid_gradients is not None and tanh_gradients is not None:\n",
        "    sigmoid_norms = [torch.norm(g).item() for g in sigmoid_gradients]\n",
        "    tanh_norms = [torch.norm(g).item() for g in tanh_gradients]\n",
        "\n",
        "    plt.figure(figsize=(10, 4))\n",
        "    x = range(len(sigmoid_norms))\n",
        "    plt.plot(x, tanh_norms, 'b-', label='Tanh', marker='s')\n",
        "    plt.plot(x, sigmoid_norms, 'r-', label='Sigmoid', marker='o')\n",
        "\n",
        "    plt.xlabel('Layer Index')\n",
        "    plt.ylabel('Gradient Norm (log scale)')\n",
        "    plt.title('Gradient Flow: Sigmoid vs Tanh')\n",
        "    plt.yscale('log')\n",
        "    plt.legend()\n",
        "    plt.grid(True, alpha=0.3)\n",
        "    plt.show()"
      ]
    },
    {
      "cell_type": "code",
      "execution_count": 118,
      "metadata": {
        "colab": {
          "base_uri": "https://localhost:8080/"
        },
        "id": "EqgPJOZ35XGY",
        "outputId": "9ba07576-b0ab-4d87-cb2b-d1978ac67e92"
      },
      "outputs": [
        {
          "output_type": "stream",
          "name": "stdout",
          "text": [
            "\n",
            "==================================================\n",
            "Testing: Section 2: Vanishing Gradients with Tanh\n",
            "==================================================\n",
            "❌ Deep network with tanh activations: Unexpected error: Exercise3Validator.test_deep_tanh_network() missing 1 required positional argument: 'context'\n",
            "❌ Gradient computation through tanh network: Unexpected error: Exercise3Validator.test_tanh_gradients() missing 1 required positional argument: 'context'\n",
            "\n",
            "❌ Section 2: Vanishing Gradients with Tanh - Some tests failed. Review the errors above.\n"
          ]
        },
        {
          "output_type": "execute_result",
          "data": {
            "text/plain": [
              "False"
            ]
          },
          "metadata": {},
          "execution_count": 118
        }
      ],
      "source": [
        "# Test Section 2: Vanishing Gradients with Tanh\n",
        "section_tests = [(getattr(validator, name), desc) for name, desc in EXERCISE3_SECTIONS[\"Section 2: Vanishing Gradients with Tanh\"]]\n",
        "test_runner.test_section(\"Section 2: Vanishing Gradients with Tanh\", validator, section_tests, locals())"
      ]
    },
    {
      "cell_type": "markdown",
      "metadata": {
        "id": "MNyA3Q755XGY"
      },
      "source": [
        "## Section 3: Exploding Gradients\n",
        "\n",
        "Now let's create the opposite problem: exploding gradients. This typically happens with poor weight initialization or unstable network architectures."
      ]
    },
    {
      "cell_type": "code",
      "execution_count": 119,
      "metadata": {
        "colab": {
          "base_uri": "https://localhost:8080/"
        },
        "id": "xbkXIfzM5XGY",
        "outputId": "5318230a-fcef-41a1-aa38-8f2486a212f2"
      },
      "outputs": [
        {
          "output_type": "stream",
          "name": "stdout",
          "text": [
            "Unstable Network (prone to exploding gradients):\n",
            "Layer 1: Weight std = 0.203\n",
            "Layer 2: Weight std = 0.199\n",
            "Layer 3: Weight std = 0.222\n",
            "Layer 4: Weight std = 0.325\n",
            "Layer 5: Weight std = 0.236\n"
          ]
        }
      ],
      "source": [
        "# TODO: Create a network prone to exploding gradients\n",
        "# Use large weight initialization (std=5.0 or multiply weights by 5)\n",
        "# Use Linear layers without activation functions between them\n",
        "unstable_network = deep_sigmoid_network = nn.Sequential(\n",
        "    nn.Linear(10,8),\n",
        "    nn.Linear(8,6),\n",
        "    nn.Linear(6,4),\n",
        "    nn.Linear(4,2),\n",
        "    nn.Linear(2,1),\n",
        ")\n",
        "\n",
        "\n",
        "\n",
        "if unstable_network:\n",
        "    print(\"Unstable Network (prone to exploding gradients):\")\n",
        "    for i, module in enumerate(unstable_network.modules()):\n",
        "        if isinstance(module, nn.Linear):\n",
        "            print(f\"Layer {i}: Weight std = {module.weight.data.std():.3f}\")"
      ]
    },
    {
      "cell_type": "code",
      "execution_count": 122,
      "metadata": {
        "colab": {
          "base_uri": "https://localhost:8080/",
          "height": 222
        },
        "id": "vej3Z0di5XGZ",
        "outputId": "a6562cac-5879-44e7-a921-33759692bdd0"
      },
      "outputs": [
        {
          "output_type": "error",
          "ename": "AttributeError",
          "evalue": "'range' object has no attribute 'grad'",
          "traceback": [
            "\u001b[0;31m---------------------------------------------------------------------------\u001b[0m",
            "\u001b[0;31mAttributeError\u001b[0m                            Traceback (most recent call last)",
            "\u001b[0;32m/tmp/ipython-input-2474005844.py\u001b[0m in \u001b[0;36m<cell line: 0>\u001b[0;34m()\u001b[0m\n\u001b[1;32m      2\u001b[0m \u001b[0;31m# Compute gradients and watch them explode!\u001b[0m\u001b[0;34m\u001b[0m\u001b[0;34m\u001b[0m\u001b[0m\n\u001b[1;32m      3\u001b[0m \u001b[0;31m# You might see NaN or very large values\u001b[0m\u001b[0;34m\u001b[0m\u001b[0;34m\u001b[0m\u001b[0m\n\u001b[0;32m----> 4\u001b[0;31m \u001b[0mx\u001b[0m\u001b[0;34m.\u001b[0m\u001b[0mgrad\u001b[0m\u001b[0;34m.\u001b[0m\u001b[0mzero_\u001b[0m\u001b[0;34m(\u001b[0m\u001b[0;34m)\u001b[0m\u001b[0;34m\u001b[0m\u001b[0;34m\u001b[0m\u001b[0m\n\u001b[0m\u001b[1;32m      5\u001b[0m \u001b[0moutput\u001b[0m \u001b[0;34m=\u001b[0m \u001b[0mdeep_tanh_network\u001b[0m\u001b[0;34m(\u001b[0m\u001b[0mx\u001b[0m\u001b[0;34m)\u001b[0m\u001b[0;34m\u001b[0m\u001b[0;34m\u001b[0m\u001b[0m\n\u001b[1;32m      6\u001b[0m \u001b[0moutput\u001b[0m\u001b[0;34m.\u001b[0m\u001b[0mmean\u001b[0m\u001b[0;34m(\u001b[0m\u001b[0;34m)\u001b[0m\u001b[0;34m.\u001b[0m\u001b[0mbackward\u001b[0m\u001b[0;34m(\u001b[0m\u001b[0;34m)\u001b[0m\u001b[0;34m\u001b[0m\u001b[0;34m\u001b[0m\u001b[0m\n",
            "\u001b[0;31mAttributeError\u001b[0m: 'range' object has no attribute 'grad'"
          ]
        }
      ],
      "source": [
        "# TODO: Observe exploding gradients\n",
        "# Compute gradients and watch them explode!\n",
        "# You might see NaN or very large values\n",
        "x.grad.zero_()\n",
        "output = deep_tanh_network(x)\n",
        "output.mean().backward()\n",
        "exploding_gradients = x.grad\n",
        "\n",
        "if exploding_gradients is not None:\n",
        "    grad_norms = [torch.norm(g).item() if not torch.isnan(g).any() else float('nan')\n",
        "                  for g in exploding_gradients]\n",
        "\n",
        "    plt.figure(figsize=(10, 4))\n",
        "    plt.bar(range(len(grad_norms)), grad_norms)\n",
        "    plt.xlabel('Layer Index')\n",
        "    plt.ylabel('Gradient Norm')\n",
        "    plt.title('Exploding Gradients!')\n",
        "    plt.show()\n",
        "\n",
        "    print(\"Gradient norms:\")\n",
        "    for i, norm in enumerate(grad_norms):\n",
        "        print(f\"Layer {i}: {norm:.2e}\")"
      ]
    },
    {
      "cell_type": "code",
      "execution_count": null,
      "metadata": {
        "id": "-XVKym175XGZ"
      },
      "outputs": [],
      "source": [
        "# TODO: Implement gradient clipping\n",
        "# Clip gradients to a maximum norm of 1.0\n",
        "# Use torch.nn.utils.clip_grad_norm_\n",
        "\n",
        "x.grad.zero_()\n",
        "output = deep_tanh_network(x)\n",
        "\n",
        "output.mean().backward()\n",
        "torch.nn.utils.clip_grad_norm_(x,max_norm=0.001)\n",
        "clipped_gradients = x.grad\n",
        "\n",
        "if clipped_gradients is not None:\n",
        "    clipped_norms = [torch.norm(g).item() for g in clipped_gradients]\n",
        "    print(\"Clipped gradient norms:\")\n",
        "    for i, norm in enumerate(clipped_norms):\n",
        "        print(f\"Layer {i}: {norm:.4f}\")\n",
        "    print(f\"\\nMax gradient norm after clipping: {max(clipped_norms):.4f}\")"
      ]
    },
    {
      "cell_type": "code",
      "execution_count": null,
      "metadata": {
        "id": "4J8sSsNp5XGZ"
      },
      "outputs": [],
      "source": [
        "# Test Section 3: Exploding Gradients\n",
        "section_tests = [(getattr(validator, name), desc) for name, desc in EXERCISE3_SECTIONS[\"Section 3: Exploding Gradients\"]]\n",
        "test_runner.test_section(\"Section 3: Exploding Gradients\", validator, section_tests, locals())"
      ]
    },
    {
      "cell_type": "markdown",
      "metadata": {
        "id": "4N6jEm905XGZ"
      },
      "source": [
        "### Section 4: Solutions - ReLU and Batch Normalization\n",
        "Let's explore two popular solutions to gradient flow problems:\n",
        "\n",
        "ReLU activations: Don't saturate for positive inputs\n",
        "Batch Normalization: Stabilizes gradients by normalizing inputs"
      ]
    },
    {
      "cell_type": "code",
      "execution_count": null,
      "metadata": {
        "id": "PPWYJ0wX5XGZ"
      },
      "outputs": [],
      "source": [
        "# TODO: Create a deep network with ReLU activations\n",
        "# Similar structure but use ReLU instead of sigmoid/tanh\n",
        "relu_network = unstable_network = deep_sigmoid_network = nn.Sequential(\n",
        "    nn.Linear(10,8),\n",
        "    nn.ReLU(),\n",
        "    nn.Linear(8,6),\n",
        "    nn.ReLU(),\n",
        "    nn.Linear(6,4),\n",
        "    nn.ReLU(),\n",
        "    nn.Linear(4,2),\n",
        "    nn.ReLU(),\n",
        "    nn.Linear(2,1),\n",
        "    nn.ReLU()\n",
        ")\n",
        "\n",
        "if relu_network:\n",
        "    print(\"ReLU Network:\")\n",
        "    print(relu_network)"
      ]
    },
    {
      "cell_type": "code",
      "execution_count": null,
      "metadata": {
        "scrolled": true,
        "id": "2AWBz3tl5XGa"
      },
      "outputs": [],
      "source": [
        "# TODO: Compute gradients through ReLU network\n",
        "x.grad.zero_()\n",
        "output = relu_network(x)\n",
        "output.mean().backward()\n",
        "relu_gradients = x.grad\n",
        "\n",
        "# Compare all activation functions\n",
        "if sigmoid_gradients is not None and tanh_gradients is not None and relu_gradients is not None:\n",
        "    sigmoid_norms = [torch.norm(g).item() for g in sigmoid_gradients]\n",
        "    tanh_norms = [torch.norm(g).item() for g in tanh_gradients]\n",
        "    relu_norms = [torch.norm(g).item() for g in relu_gradients]\n",
        "\n",
        "    plt.figure(figsize=(12, 5))\n",
        "    x = range(len(sigmoid_norms))\n",
        "    plt.plot(x, sigmoid_norms, 'r-', label='Sigmoid', marker='o')\n",
        "    plt.plot(x, tanh_norms, 'b-', label='Tanh', marker='s')\n",
        "    plt.plot(x, relu_norms, 'g-', label='ReLU', marker='^')\n",
        "    plt.xlabel('Layer Index (deeper →)')\n",
        "    plt.ylabel('Gradient Norm (log scale)')\n",
        "    plt.title('Gradient Flow Comparison: Different Activation Functions')\n",
        "    plt.yscale('log')\n",
        "    plt.legend()\n",
        "    plt.grid(True, alpha=0.3)\n",
        "    plt.show()\n",
        "\n",
        "    # Calculate gradient preservation ratios\n",
        "    for name, grads in [(\"Sigmoid\", sigmoid_norms), (\"Tanh\", tanh_norms), (\"ReLU\", relu_norms)]:\n",
        "        ratio = grads[-1] / grads[0] if grads[0] > 0 else 0\n",
        "        print(f\"{name} gradient preservation ratio: {ratio:.6f}\")"
      ]
    },
    {
      "cell_type": "code",
      "execution_count": null,
      "metadata": {
        "id": "aPuSanGL5XGa"
      },
      "outputs": [],
      "source": [
        "# TODO: Create a network with Batch Normalization\n",
        "# Add BatchNorm1d layers after Linear layers (before activation)\n",
        "batchnorm_network = None"
      ]
    }
  ],
  "metadata": {
    "kernelspec": {
      "display_name": "Python 3",
      "name": "python3"
    },
    "language_info": {
      "codemirror_mode": {
        "name": "ipython",
        "version": 3
      },
      "file_extension": ".py",
      "mimetype": "text/x-python",
      "name": "python",
      "nbconvert_exporter": "python",
      "pygments_lexer": "ipython3",
      "version": "3.13.6"
    },
    "colab": {
      "provenance": [],
      "gpuType": "T4"
    },
    "accelerator": "GPU"
  },
  "nbformat": 4,
  "nbformat_minor": 0
}