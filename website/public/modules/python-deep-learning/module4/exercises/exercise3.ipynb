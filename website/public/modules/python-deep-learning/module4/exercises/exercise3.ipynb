{
  "cells": [
    {
      "cell_type": "markdown",
      "metadata": {
        "id": "ys8Bua1fVRF6"
      },
      "source": [
        "# Module 4 - Exercise 3: PyTorch Optimization with torch.compile\n",
        "\n",
        "## Learning Objectives\n",
        "- Understand the basics of torch.compile for model optimization\n",
        "- Compare performance between compiled and non-compiled models\n",
        "- Analyze the impact of batch size on optimization benefits\n",
        "- Evaluate performance across different devices (CPU vs GPU)\n",
        "- Learn practical optimization techniques for production models"
      ]
    },
    {
      "cell_type": "markdown",
      "metadata": {
        "id": "ZLGF3390VRF8"
      },
      "source": [
        "## Environment Setup"
      ]
    },
    {
      "cell_type": "code",
      "execution_count": 1,
      "metadata": {
        "colab": {
          "base_uri": "https://localhost:8080/"
        },
        "id": "9di8ot1PVRF-",
        "outputId": "4da12ad1-f382-4465-e3c7-12605579fc79"
      },
      "outputs": [
        {
          "output_type": "stream",
          "name": "stdout",
          "text": [
            "Using device: cuda\n",
            "PyTorch version: 2.8.0+cu126\n",
            "CUDA version: 12.6\n",
            "GPU: Tesla T4\n"
          ]
        }
      ],
      "source": [
        "import torch\n",
        "import torch.nn as nn\n",
        "import torch.nn.functional as F\n",
        "from torch.utils.data import Dataset, DataLoader\n",
        "import numpy as np\n",
        "import matplotlib.pyplot as plt\n",
        "import time\n",
        "from typing import Dict, List, Tuple\n",
        "import warnings\n",
        "warnings.filterwarnings('ignore')\n",
        "\n",
        "# Set random seeds for reproducibility\n",
        "torch.manual_seed(42)\n",
        "np.random.seed(42)\n",
        "\n",
        "# Check CUDA availability\n",
        "device = torch.device('cuda' if torch.cuda.is_available() else 'cpu')\n",
        "print(f\"Using device: {device}\")\n",
        "print(f\"PyTorch version: {torch.__version__}\")\n",
        "if torch.cuda.is_available():\n",
        "    print(f\"CUDA version: {torch.version.cuda}\")\n",
        "    print(f\"GPU: {torch.cuda.get_device_name(0)}\")"
      ]
    },
    {
      "cell_type": "markdown",
      "metadata": {
        "id": "rlYzSz9SVRF_"
      },
      "source": [
        "## Section 1: Understanding torch.compile with Simple Functions\n",
        "\n",
        "In this section, we'll start with simple functions to understand how torch.compile works and measure its performance benefits."
      ]
    },
    {
      "cell_type": "code",
      "execution_count": 9,
      "metadata": {
        "colab": {
          "base_uri": "https://localhost:8080/"
        },
        "id": "wxTP7o67VRGA",
        "outputId": "8cb275ed-a3ab-412c-8a39-c087460590d8"
      },
      "outputs": [
        {
          "output_type": "stream",
          "name": "stdout",
          "text": [
            "Normal execution time: 0.0091 seconds\n",
            "Compiled execution time: 0.0065 seconds\n",
            "Speedup: 1.40x\n"
          ]
        }
      ],
      "source": [
        "def simple_computation(x: torch.Tensor) -> torch.Tensor:\n",
        "    \"\"\"A simple computation function for demonstration.\"\"\"\n",
        "    y = torch.sin(x) * torch.cos(x)\n",
        "    z = y ** 2 + torch.exp(-y.abs())\n",
        "    return z.sum()\n",
        "\n",
        "# TODO: Create a compiled version of simple_computation using torch.compile\n",
        "# Hint: Use torch.compile() with the function\n",
        "compiled_simple_computation = torch.compile(simple_computation)\n",
        "\n",
        "# Test both versions\n",
        "test_tensor = torch.randn(1000, 1000, device=device)\n",
        "\n",
        "# Warmup runs (important for compiled functions)\n",
        "for _ in range(3):\n",
        "    _ = simple_computation(test_tensor)\n",
        "    if compiled_simple_computation:\n",
        "        _ = compiled_simple_computation(test_tensor)\n",
        "\n",
        "# Performance comparison\n",
        "num_iterations = 100\n",
        "\n",
        "# TODO: Measure time for non-compiled version\n",
        "# Record start time, run the function num_iterations times, record end time\n",
        "a = time.clock_gettime(0)\n",
        "for _ in range(num_iterations):\n",
        "    _ = simple_computation(test_tensor)\n",
        "normal_time = time.clock_gettime(0)-a\n",
        "\n",
        "# TODO: Measure time for compiled version\n",
        "# Record start time, run the compiled function num_iterations times, record end time\n",
        "a = time.clock_gettime(0)\n",
        "for _ in range(num_iterations):\n",
        "    _ = compiled_simple_computation(test_tensor)\n",
        "compiled_time = time.clock_gettime(0)-a\n",
        "\n",
        "if normal_time and compiled_time:\n",
        "    print(f\"Normal execution time: {normal_time:.4f} seconds\")\n",
        "    print(f\"Compiled execution time: {compiled_time:.4f} seconds\")\n",
        "    print(f\"Speedup: {normal_time/compiled_time:.2f}x\")"
      ]
    },
    {
      "cell_type": "markdown",
      "metadata": {
        "id": "BF7WW3YMVRGB"
      },
      "source": [
        "## Section 2: Creating a Custom Dataset and Model\n",
        "\n",
        "Now let's create a more realistic scenario with a dataset and a neural network model to see how torch.compile performs with real ML workloads."
      ]
    },
    {
      "cell_type": "code",
      "execution_count": 84,
      "metadata": {
        "colab": {
          "base_uri": "https://localhost:8080/"
        },
        "id": "Dgghi3xCVRGC",
        "outputId": "33a0b1c3-b2a9-455d-9e79-7b7f2a7d2519"
      },
      "outputs": [
        {
          "output_type": "stream",
          "name": "stdout",
          "text": [
            "Dataset size: 10000\n"
          ]
        }
      ],
      "source": [
        "class SyntheticDataset(Dataset):\n",
        "    \"\"\"A synthetic dataset for performance testing.\"\"\"\n",
        "\n",
        "    def __init__(self, num_samples: int = 10000, input_dim: int = 128):\n",
        "        # TODO: Initialize the dataset with random data\n",
        "        # Create self.data as random tensor of shape (num_samples, input_dim)\n",
        "        # Create self.targets as random integers from 0 to 9\n",
        "        self.data = torch.randn(num_samples,input_dim)\n",
        "        self.targets = torch.randint(low=0, high=10, size=(num_samples,))\n",
        "    def __len__(self):\n",
        "        # TODO: Return the number of samples\n",
        "        return len(self.data)\n",
        "    def __getitem__(self, idx):\n",
        "        # TODO: Return a tuple of (data, target) for the given index\n",
        "        return self.data[idx], self.targets[idx]\n",
        "\n",
        "# Create dataset\n",
        "dataset = SyntheticDataset(num_samples=10000, input_dim=128)\n",
        "print(f\"Dataset size: {len(dataset) if dataset else 'Not implemented'}\")"
      ]
    },
    {
      "cell_type": "code",
      "execution_count": 85,
      "metadata": {
        "colab": {
          "base_uri": "https://localhost:8080/"
        },
        "id": "gpFFAcXxVRGD",
        "outputId": "cfd45b7b-688c-4b44-852a-4bbfbb2f003f"
      },
      "outputs": [
        {
          "output_type": "stream",
          "name": "stdout",
          "text": [
            "Model created with 102410 parameters\n"
          ]
        }
      ],
      "source": [
        "class OptimizedModel(nn.Module):\n",
        "    \"\"\"A moderately complex model for optimization testing.\"\"\"\n",
        "\n",
        "    def __init__(self, input_dim: int = 128, hidden_dim: int = 256, num_classes: int = 10):\n",
        "        super().__init__()\n",
        "        # TODO: Define the model architecture\n",
        "        # Create a 3-layer MLP with:\n",
        "        # - fc1: input_dim -> hidden_dim\n",
        "        # - fc2: hidden_dim -> hidden_dim\n",
        "        # - fc3: hidden_dim -> num_classes\n",
        "        # - bn1, bn2: BatchNorm1d layers for hidden_dim\n",
        "        self.fc1 = nn.Linear(input_dim,hidden_dim)\n",
        "        self.bn1 = nn.BatchNorm1d(hidden_dim)\n",
        "        self.fc2 = nn.Linear(hidden_dim,hidden_dim)\n",
        "        self.bn2 = nn.BatchNorm1d(hidden_dim)\n",
        "        self.fc3 = nn.Linear(hidden_dim,num_classes)\n",
        "\n",
        "    def forward(self, x):\n",
        "        # TODO: Implement forward pass\n",
        "        # Use ReLU activation and batch normalization\n",
        "        # fc1 -> bn1 -> relu -> fc2 -> bn2 -> relu -> fc3\n",
        "        return self.fc3(F.relu(self.bn2(self.fc2(F.relu(self.bn1(self.fc1(x)))))))\n",
        "\n",
        "# Create model instances\n",
        "model_normal = OptimizedModel().to(device)\n",
        "model_compiled = OptimizedModel().to(device)\n",
        "\n",
        "# TODO: Compile the model_compiled using torch.compile\n",
        "# Try with mode='default' first\n",
        "model_compiled = torch.compile(model_compiled,mode = 'default')\n",
        "\n",
        "print(f\"Model created with {sum(p.numel() for p in model_normal.parameters())} parameters\")"
      ]
    },
    {
      "cell_type": "markdown",
      "metadata": {
        "id": "Bj0W0N-MVRGE"
      },
      "source": [
        "## Section 3: Performance Comparison with Different Batch Sizes\n",
        "\n",
        "Let's analyze how batch size affects the performance benefits of torch.compile."
      ]
    },
    {
      "cell_type": "code",
      "execution_count": 86,
      "metadata": {
        "colab": {
          "base_uri": "https://localhost:8080/"
        },
        "id": "m08nmIeTVRGE",
        "outputId": "6be835f8-4f28-4051-a5a5-b939a8bbfea4"
      },
      "outputs": [
        {
          "output_type": "stream",
          "name": "stdout",
          "text": [
            "Batch size   1: Normal=0.0006s, Compiled=0.0005s, Speedup=1.11x\n",
            "Batch size   4: Normal=0.0006s, Compiled=0.0006s, Speedup=1.01x\n",
            "Batch size  16: Normal=0.0007s, Compiled=0.0007s, Speedup=1.00x\n",
            "Batch size  32: Normal=0.0008s, Compiled=0.0009s, Speedup=0.88x\n",
            "Batch size  64: Normal=0.0011s, Compiled=0.0011s, Speedup=0.99x\n",
            "Batch size 128: Normal=0.0019s, Compiled=0.0019s, Speedup=1.00x\n"
          ]
        }
      ],
      "source": [
        "def benchmark_inference(model, dataloader,device=device, num_batches: int = 50) -> float:\n",
        "    \"\"\"Benchmark model inference performance.\"\"\"\n",
        "    model.eval()\n",
        "\n",
        "    # TODO: Implement benchmarking\n",
        "    # 1. Warmup with 3 batches\n",
        "    # 2. Time num_batches iterations\n",
        "    # 3. Return average time per batch\n",
        "    avg_time = 0\n",
        "    with torch.no_grad():\n",
        "        # Warmup\n",
        "        warmup_batches = 3\n",
        "        for i, (x, _) in enumerate(dataloader):\n",
        "          if i >= warmup_batches:\n",
        "              break\n",
        "          x=x.to(device)\n",
        "          model(x)\n",
        "        start_time = time.time()\n",
        "        for i, (x, _) in enumerate(dataloader):\n",
        "          if i >= num_batches:\n",
        "              break\n",
        "          x=x.to(device)\n",
        "          model(x)\n",
        "        end_time = time.time()\n",
        "        avg_time += end_time - start_time\n",
        "         # TODO: Calculate average time per batch\n",
        "    return avg_time/num_batches\n",
        "\n",
        "# Test different batch sizes\n",
        "batch_sizes = [1, 4, 16, 32, 64, 128]\n",
        "normal_times = []\n",
        "compiled_times = []\n",
        "\n",
        "for batch_size in batch_sizes:\n",
        "    # TODO: Create DataLoader with current batch_size\n",
        "    dataloader = DataLoader(SyntheticDataset(num_samples=10000, input_dim=128),batch_size=batch_size)\n",
        "\n",
        "    if dataloader and model_normal and model_compiled:\n",
        "        # Benchmark normal model\n",
        "        normal_time = benchmark_inference(model_normal, dataloader)\n",
        "        normal_times.append(normal_time)\n",
        "\n",
        "        # Benchmark compiled model\n",
        "        compiled_time = benchmark_inference(model_compiled, dataloader)\n",
        "        compiled_times.append(compiled_time)\n",
        "\n",
        "        print(f\"Batch size {batch_size:3d}: Normal={normal_time:.4f}s, \"\n",
        "              f\"Compiled={compiled_time:.4f}s, Speedup={normal_time/compiled_time:.2f}x\")"
      ]
    },
    {
      "cell_type": "code",
      "execution_count": 87,
      "metadata": {
        "colab": {
          "base_uri": "https://localhost:8080/",
          "height": 507
        },
        "id": "oCklMQ9YVRGF",
        "outputId": "3c273a19-e674-4166-a700-63253d3abea8"
      },
      "outputs": [
        {
          "output_type": "display_data",
          "data": {
            "text/plain": [
              "<Figure size 1200x500 with 2 Axes>"
            ],
            "image/png": "[encoded data removed]"
          },
          "metadata": {}
        }
      ],
      "source": [
        "# Visualize the results\n",
        "if normal_times and compiled_times:\n",
        "    fig, (ax1, ax2) = plt.subplots(1, 2, figsize=(12, 5))\n",
        "\n",
        "    # TODO: Create bar plot comparing normal vs compiled times\n",
        "    ax1.plot(batch_sizes,normal_times,label = 'normal speed')\n",
        "    ax1.plot(compiled_times, label = 'compiled speed')\n",
        "    ax1.legend()\n",
        "    # Use ax1 for the comparison\n",
        "\n",
        "    # TODO: Create line plot showing speedup ratio across batch sizes\n",
        "    # Use ax2 for the speedup plot\n",
        "    ax2.plot(batch_sizes,np.array(normal_times)/np.array(compiled_times),color = 'g', label = 'speedup ratio')\n",
        "    ax2.legend()\n",
        "    plt.tight_layout()\n",
        "    plt.show()"
      ]
    },
    {
      "cell_type": "markdown",
      "metadata": {
        "id": "mky9gI2tVRGG"
      },
      "source": [
        "## Section 4: Device Comparison (CPU vs GPU)\n",
        "\n",
        "Let's compare the optimization benefits across different devices to understand where torch.compile provides the most value."
      ]
    },
    {
      "cell_type": "code",
      "execution_count": 88,
      "metadata": {
        "colab": {
          "base_uri": "https://localhost:8080/"
        },
        "id": "9y6S3dgsVRGG",
        "outputId": "89201752-3b5b-4093-e971-27f10f5a5021"
      },
      "outputs": [
        {
          "output_type": "stream",
          "name": "stdout",
          "text": [
            "\n",
            "Testing on CPU...\n",
            "\n",
            "Testing on CUDA...\n",
            "\n",
            "CPU Results:\n",
            "  Normal: 0.0001s\n",
            "  Compiled: 0.0001s\n",
            "  Speedup: 1.08x\n",
            "\n",
            "CUDA Results:\n",
            "  Normal: 0.0000s\n",
            "  Compiled: 0.0000s\n",
            "  Speedup: 1.16x\n"
          ]
        }
      ],
      "source": [
        "def compare_devices(batch_size: int = 32, num_batches: int = 30):\n",
        "    \"\"\"Compare performance across CPU and GPU (if available).\"\"\"\n",
        "    results = {}\n",
        "\n",
        "    # TODO: Create a fixed dataset and dataloader\n",
        "    dataset = SyntheticDataset(num_samples=1000, input_dim=128)\n",
        "    dataloader = DataLoader(dataset, batch_size=batch_size)  # TODO: Create DataLoader with batch_size\n",
        "\n",
        "    for device_name in ['cpu', 'cuda']:\n",
        "        if device_name == 'cuda' and not torch.cuda.is_available():\n",
        "            print(\"CUDA not available, skipping GPU tests\")\n",
        "            continue\n",
        "\n",
        "        current_device = torch.device(device_name)\n",
        "        print(f\"\\nTesting on {device_name.upper()}...\")\n",
        "\n",
        "        # TODO: Create and move models to current_device\n",
        "        model_normal = OptimizedModel().to(current_device)\n",
        "        model_compiled = OptimizedModel().to(current_device)\n",
        "\n",
        "\n",
        "        if model_normal and model_compiled and dataloader:\n",
        "            # Move data to device and benchmark\n",
        "            device_dataloader = [(data.to(current_device), target.to(current_device))\n",
        "                                for data, target in dataloader]\n",
        "\n",
        "            # TODO: Benchmark both models\n",
        "            normal_time = benchmark_inference(model_normal,device_dataloader,device = current_device)\n",
        "            compiled_time = benchmark_inference(model_compiled,device_dataloader,device = current_device)\n",
        "\n",
        "            results[device_name] = {\n",
        "                'normal': normal_time,\n",
        "                'compiled': compiled_time,\n",
        "                'speedup': normal_time / compiled_time if compiled_time else 0\n",
        "            }\n",
        "\n",
        "    return results\n",
        "\n",
        "# Run device comparison\n",
        "device_results = compare_devices(batch_size=100000, num_batches=1)\n",
        "\n",
        "# Display results\n",
        "for device_name, metrics in device_results.items():\n",
        "    print(f\"\\n{device_name.upper()} Results:\")\n",
        "    print(f\"  Normal: {metrics['normal']:.4f}s\")\n",
        "    print(f\"  Compiled: {metrics['compiled']:.4f}s\")\n",
        "    print(f\"  Speedup: {metrics['speedup']:.2f}x\")"
      ]
    },
    {
      "cell_type": "markdown",
      "metadata": {
        "id": "Aao14BI9VRGH"
      },
      "source": [
        "## Section 5: Advanced Compilation Modes\n",
        "\n",
        "torch.compile offers different modes that trade off compilation time for runtime performance. Let's explore these modes."
      ]
    },
    {
      "cell_type": "code",
      "execution_count": 89,
      "metadata": {
        "colab": {
          "base_uri": "https://localhost:8080/"
        },
        "id": "4A0saRWGVRGH",
        "outputId": "5269e694-04b6-443a-8c54-152b7446fd2c"
      },
      "outputs": [
        {
          "output_type": "stream",
          "name": "stdout",
          "text": [
            "\n",
            "Testing mode: default\n",
            "  Compilation time: 0.22s\n",
            "  Runtime per batch: 0.0005s\n",
            "\n",
            "Testing mode: reduce-overhead\n",
            "  Compilation time: 0.23s\n",
            "  Runtime per batch: 0.0005s\n",
            "\n",
            "Testing mode: max-autotune\n",
            "  Compilation time: 0.45s\n",
            "  Runtime per batch: 0.0006s\n"
          ]
        }
      ],
      "source": [
        "# Compilation modes to test\n",
        "compile_modes = ['default', 'reduce-overhead', 'max-autotune']\n",
        "mode_results = {}\n",
        "\n",
        "# Create test data\n",
        "test_dataset = SyntheticDataset(num_samples=2000, input_dim=128)\n",
        "test_loader = DataLoader(test_dataset, batch_size=64, shuffle=False)\n",
        "\n",
        "for mode in compile_modes:\n",
        "    print(f\"\\nTesting mode: {mode}\")\n",
        "\n",
        "    # TODO: Create a fresh model and compile it with the current mode\n",
        "    model = OptimizedModel().to(device)\n",
        "    compiled_model = torch.compile(model,mode=mode)  # TODO: Use torch.compile with mode=mode\n",
        "\n",
        "    if compiled_model:\n",
        "        # Measure compilation + first run time\n",
        "        compile_start = time.time()\n",
        "        with torch.no_grad():\n",
        "            for i, (data, target) in enumerate(test_loader):\n",
        "                if i >= 1:  # Just one batch for compilation\n",
        "                    break\n",
        "                _ = compiled_model(data.to(device))\n",
        "        compile_time = time.time() - compile_start\n",
        "\n",
        "        # TODO: Benchmark runtime performance after compilation\n",
        "        runtime = benchmark_inference(model,test_loader)  # TODO: Use benchmark_inference function\n",
        "\n",
        "        mode_results[mode] = {\n",
        "            'compile_time': compile_time,\n",
        "            'runtime': runtime\n",
        "        }\n",
        "\n",
        "        print(f\"  Compilation time: {compile_time:.2f}s\")\n",
        "        print(f\"  Runtime per batch: {runtime:.4f}s\")"
      ]
    },
    {
      "cell_type": "markdown",
      "metadata": {
        "id": "CEm_WBopVRGI"
      },
      "source": [
        "## Section 6: Training Loop Optimization\n",
        "\n",
        "Let's see how torch.compile affects a complete training loop, including both forward and backward passes."
      ]
    },
    {
      "cell_type": "code",
      "execution_count": 91,
      "metadata": {
        "colab": {
          "base_uri": "https://localhost:8080/"
        },
        "id": "MakZSuiyVRGI",
        "outputId": "ad3ce889-736c-4a5d-b977-cf804ab470f9"
      },
      "outputs": [
        {
          "output_type": "stream",
          "name": "stdout",
          "text": [
            "Training comparison:\n",
            "--------------------------------------------------\n",
            "Epoch 1/3:\n",
            "  Normal - Loss: 2.3654, Time: 0.23s\n",
            "  Compiled - Loss: 2.3765, Time: 0.26s\n",
            "  Speedup: 0.87x\n",
            "Epoch 2/3:\n",
            "  Normal - Loss: 2.0970, Time: 0.25s\n",
            "  Compiled - Loss: 2.1049, Time: 0.28s\n",
            "  Speedup: 0.89x\n",
            "Epoch 3/3:\n",
            "  Normal - Loss: 1.9203, Time: 0.25s\n",
            "  Compiled - Loss: 1.9249, Time: 0.20s\n",
            "  Speedup: 1.23x\n"
          ]
        }
      ],
      "source": [
        "def train_epoch(model, dataloader, optimizer, criterion, device):\n",
        "    \"\"\"Train model for one epoch.\"\"\"\n",
        "    model.train()\n",
        "    total_loss = 0\n",
        "    num_batches = 0\n",
        "\n",
        "    start_time = time.time()\n",
        "\n",
        "    for data, target in dataloader:\n",
        "        # TODO: Implement training step\n",
        "        # 1. Move data to device\n",
        "        data = data.to(device)\n",
        "        target = target.to(device)\n",
        "        # 2. Zero gradients\n",
        "        optimizer.zero_grad()\n",
        "        # 3. Forward pass\n",
        "        y_pred = model(data)\n",
        "\n",
        "        # 4. Calculate loss\n",
        "        loss = criterion(y_pred,target)\n",
        "        # 5. Backward pass\n",
        "        loss.backward()\n",
        "        # 6. Optimizer step\n",
        "        optimizer.step()\n",
        "\n",
        "        if loss:\n",
        "            total_loss += loss.item()\n",
        "            num_batches += 1\n",
        "\n",
        "    epoch_time = time.time() - start_time\n",
        "    avg_loss = total_loss / num_batches if num_batches > 0 else 0\n",
        "\n",
        "    return avg_loss, epoch_time\n",
        "\n",
        "# Prepare training\n",
        "train_dataset = SyntheticDataset(num_samples=5000, input_dim=128)\n",
        "train_loader = DataLoader(train_dataset, batch_size=64, shuffle=True)\n",
        "\n",
        "# Create models for training comparison\n",
        "model_train_normal = OptimizedModel().to(device)\n",
        "model_train_compiled = OptimizedModel().to(device)\n",
        "\n",
        "# TODO: Compile the training model\n",
        "model_train_compiled = torch.compile(model_train_compiled)\n",
        "\n",
        "# Create optimizers and criterion\n",
        "optimizer_normal = torch.optim.Adam(model_train_normal.parameters(), lr=0.001)\n",
        "optimizer_compiled = torch.optim.Adam(model_train_compiled.parameters(), lr=0.001) if model_train_compiled else None\n",
        "criterion = nn.CrossEntropyLoss()\n",
        "\n",
        "# Train for a few epochs\n",
        "num_epochs = 3\n",
        "print(\"Training comparison:\")\n",
        "print(\"-\" * 50)\n",
        "\n",
        "for epoch in range(num_epochs):\n",
        "    # Train normal model\n",
        "    loss_normal, time_normal = train_epoch(\n",
        "        model_train_normal, train_loader, optimizer_normal, criterion, device\n",
        "    )\n",
        "\n",
        "    # Train compiled model\n",
        "    if model_train_compiled and optimizer_compiled:\n",
        "        loss_compiled, time_compiled = train_epoch(\n",
        "            model_train_compiled, train_loader, optimizer_compiled, criterion, device\n",
        "        )\n",
        "    else:\n",
        "        loss_compiled, time_compiled = 0, 0\n",
        "\n",
        "    print(f\"Epoch {epoch+1}/{num_epochs}:\")\n",
        "    print(f\"  Normal - Loss: {loss_normal:.4f}, Time: {time_normal:.2f}s\")\n",
        "    print(f\"  Compiled - Loss: {loss_compiled:.4f}, Time: {time_compiled:.2f}s\")\n",
        "    if time_compiled > 0:\n",
        "        print(f\"  Speedup: {time_normal/time_compiled:.2f}x\")"
      ]
    }
  ],
  "metadata": {
    "kernelspec": {
      "display_name": "Python 3",
      "name": "python3"
    },
    "language_info": {
      "codemirror_mode": {
        "name": "ipython",
        "version": 3
      },
      "file_extension": ".py",
      "mimetype": "text/x-python",
      "name": "python",
      "nbconvert_exporter": "python",
      "pygments_lexer": "ipython3",
      "version": "3.13.6"
    },
    "colab": {
      "provenance": [],
      "gpuType": "T4"
    },
    "accelerator": "GPU"
  },
  "nbformat": 4,
  "nbformat_minor": 0
}